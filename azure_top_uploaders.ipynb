{
 "cells": [
  {
   "cell_type": "markdown",
   "id": "e5acd728-0a29-4ecb-a22a-6ad0435f4350",
   "metadata": {},
   "source": [
    "# Top Storage Blob Uploaders"
   ]
  },
  {
   "cell_type": "markdown",
   "id": "c9b1999a-1e2f-4bf3-90ea-bee5556a0e63",
   "metadata": {},
   "source": [
    "## Step 1: Import Python Packages"
   ]
  },
  {
   "cell_type": "code",
   "execution_count": null,
   "id": "e6a0d047-79e5-4900-81fa-c1ce9f3cd816",
   "metadata": {
    "tags": []
   },
   "outputs": [],
   "source": [
    "!pip install azure-identity azure-mgmt-loganalytics azure-monitor-query azure-mgmt-subscription &>/dev/null\n",
    "\n",
    "from azure.identity import DeviceCodeCredential                   # Needed to authenticate with Azure\n",
    "from azure.mgmt.loganalytics import LogAnalyticsManagementClient  # Allows interaction with Log Analytics\n",
    "from azure.mgmt.subscription import SubscriptionClient            # Allows us to get the subscription ID\n",
    "from azure.monitor.query import LogsQueryClient                   # Used to issue queries to Log Analytics\n",
    "from datetime import timedelta, datetime                          # Time conversions\n",
    "import pandas as pd                                               # Used to manipulate data"
   ]
  },
  {
   "cell_type": "markdown",
   "id": "82b889b6-b4eb-4c34-bbf6-e1c29ea6868f",
   "metadata": {},
   "source": [
    "## Step 2: Authenticate with Azure"
   ]
  },
  {
   "cell_type": "code",
   "execution_count": null,
   "id": "ca74c7f5-24e9-4412-b09a-95527050108e",
   "metadata": {
    "tags": []
   },
   "outputs": [],
   "source": [
    "credential = DeviceCodeCredential()\n",
    "credential.authenticate()\n",
    "subscriptions_client = SubscriptionClient(credential)\n",
    "query_client = LogsQueryClient(credential)"
   ]
  },
  {
   "cell_type": "markdown",
   "id": "f02ad550-aac7-43c8-8635-8a1e4a089701",
   "metadata": {},
   "source": [
    "## Step 3: Query for PutBlob"
   ]
  },
  {
   "cell_type": "code",
   "execution_count": null,
   "id": "34d03c54-9e27-4932-bb8d-ed85b1e3e6ff",
   "metadata": {
    "tags": []
   },
   "outputs": [],
   "source": [
    "# Get first subscription\n",
    "subscriptions = subscriptions_client.subscriptions.list()\n",
    "for subscription in subscriptions:\n",
    "    subscription_id = subscription.subscription_id\n",
    "    break\n",
    "\n",
    "# Get workspace_id\n",
    "log_analytics_client = LogAnalyticsManagementClient(credential, subscription_id)\n",
    "workspaces = log_analytics_client.workspaces.list()\n",
    "for workspace in workspaces:\n",
    "    if workspace.name == 'sherlocklaw':\n",
    "        workspace_id = workspace.customer_id\n",
    "\n",
    "# Get all StorageBlobLog data within the last day\n",
    "query = \"\"\"\n",
    "StorageBlobLogs\n",
    "| where OperationName == \"PutBlob\"\n",
    "\"\"\"\n",
    "response = query_client.query_workspace(workspace_id, query, timespan=timedelta(days=1))\n",
    "data = response.tables\n",
    "for table in data:\n",
    "    df = pd.DataFrame(data=table.rows, columns=table.columns)\n",
    "pd.set_option('display.max_colwidth', None)\n",
    "df"
   ]
  },
  {
   "cell_type": "markdown",
   "id": "ce4a3ca9-96b6-43b1-a698-b2c47078c865",
   "metadata": {},
   "source": [
    "## Step 4: Detection 1: Rank Top Uploaders by Upload Occurrences"
   ]
  },
  {
   "cell_type": "code",
   "execution_count": null,
   "id": "cfb6f351-3de2-46f4-b1bf-96858ba0c8d6",
   "metadata": {
    "tags": []
   },
   "outputs": [],
   "source": [
    "df[['CallerIpAddress', 'CallerTcpPort']] = df['CallerIpAddress'].str.split(':', expand=True)\n",
    "counts = df['CallerIpAddress'].value_counts().reset_index()\n",
    "counts.columns = ['source','occurrences']\n",
    "counts"
   ]
  },
  {
   "cell_type": "markdown",
   "id": "cf3097c3-be84-4f76-b201-7e86deb6ad6d",
   "metadata": {},
   "source": [
    "## Step 5: Detection 2: Rank Top Uploaders by Sum of Uploaded File Sizes"
   ]
  },
  {
   "cell_type": "code",
   "execution_count": null,
   "id": "cdd0cce2-94f8-4d50-903c-2ca930da0aa4",
   "metadata": {
    "tags": []
   },
   "outputs": [],
   "source": [
    "sum_by_ip = df.groupby('CallerIpAddress')['RequestBodySize'].sum().reset_index()\n",
    "sum_by_ip.columns = ['source', 'totalDataIn']\n",
    "sum_by_ip"
   ]
  },
  {
   "cell_type": "code",
   "execution_count": null,
   "id": "0011ec5c-e5bd-4f5d-9677-ca08070cde20",
   "metadata": {},
   "outputs": [],
   "source": []
  }
 ],
 "metadata": {
  "kernelspec": {
   "display_name": "conda_python3",
   "language": "python",
   "name": "conda_python3"
  },
  "language_info": {
   "codemirror_mode": {
    "name": "ipython",
    "version": 3
   },
   "file_extension": ".py",
   "mimetype": "text/x-python",
   "name": "python",
   "nbconvert_exporter": "python",
   "pygments_lexer": "ipython3",
   "version": "3.10.16"
  }
 },
 "nbformat": 4,
 "nbformat_minor": 5
}
