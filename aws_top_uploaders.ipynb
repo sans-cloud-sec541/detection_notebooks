{
 "cells": [
  {
   "cell_type": "markdown",
   "id": "370db96a-9446-4a5f-b25d-f6ad9733d2c0",
   "metadata": {},
   "source": [
    "# Top S3 Uploaders"
   ]
  },
  {
   "cell_type": "markdown",
   "id": "c3a741c1-e323-42c5-a781-4785943b9fdb",
   "metadata": {},
   "source": [
    "## Step 1: Import Python Packages"
   ]
  },
  {
   "cell_type": "code",
   "execution_count": null,
   "id": "5a648158-e0a6-4bbb-9e76-47092f3f2d8a",
   "metadata": {
    "tags": []
   },
   "outputs": [],
   "source": [
    "import boto3                     # Amazon Python SDK\n",
    "from datetime import datetime    # DateTime package for time conversions\n",
    "import json                      # Needed to JSONify data for pandas\n",
    "import pandas as pd              # Used to manipulate data\n",
    "import time                      # Used to wait for query to finish"
   ]
  },
  {
   "cell_type": "markdown",
   "id": "34f20491-8261-49c3-86f9-6c82955b7c40",
   "metadata": {},
   "source": [
    "## Step 2: Query for s3:GetObject"
   ]
  },
  {
   "cell_type": "code",
   "execution_count": null,
   "id": "3372257d-2f3a-4baf-bb67-6b8be79baba3",
   "metadata": {
    "tags": []
   },
   "outputs": [],
   "source": [
    "# Get current time\n",
    "end_time = datetime.now().timestamp()\n",
    "\n",
    "# Get 24 hours prior\n",
    "start_time = end_time - 86400\n",
    "\n",
    "# Create CloudWatch Logs client and get S3 data\n",
    "client = boto3.client('logs')\n",
    "response = client.start_query(\n",
    "    queryLanguage='CWLI',\n",
    "    logGroupName='/baker221b/cloudtrail',\n",
    "    startTime=int(start_time),\n",
    "    endTime=int(end_time),\n",
    "    queryString='fields @message | filter eventSource == \"s3.amazonaws.com\" and eventName == \"GetObject\"'\n",
    ")\n",
    "time.sleep(5)\n",
    "query_id = response['queryId']\n",
    "response = client.get_query_results(\n",
    "    queryId = query_id\n",
    ")\n",
    "results = response['results']\n",
    "# Shove data into a pandas DataFrame\n",
    "results_with_message = []\n",
    "for result in results:\n",
    "    results_with_message.append(result[0]['value'])\n",
    "data = [json.loads(item) for item in results_with_message]\n",
    "df = pd.read_json(json.dumps(data), orient='records')\n",
    "extended_event_data = pd.json_normalize(df['additionalEventData'])\n",
    "df = pd.concat([df, extended_event_data], axis=1)\n",
    "df"
   ]
  },
  {
   "cell_type": "markdown",
   "id": "2b05ffc6-200e-46b2-b262-fdc43bdc5055",
   "metadata": {},
   "source": [
    "## Step 3: Detection 1: Rank Top Downloaders by Download Occurrences"
   ]
  },
  {
   "cell_type": "code",
   "execution_count": null,
   "id": "13728798-20c5-4f29-a356-18330ab96f04",
   "metadata": {
    "tags": []
   },
   "outputs": [],
   "source": [
    "counts = df['sourceIPAddress'].value_counts().reset_index()\n",
    "counts.columns = ['source','occurrences']\n",
    "counts"
   ]
  },
  {
   "cell_type": "markdown",
   "id": "b5eb8074-87c0-4cb4-8122-02ae106618c5",
   "metadata": {},
   "source": [
    "## Step 4: Detection 2: Rank Top Downloaders by Sum of Downloaded File Sizes"
   ]
  },
  {
   "cell_type": "code",
   "execution_count": null,
   "id": "ffabd832-396d-4d5e-a152-d90ba844066f",
   "metadata": {
    "tags": []
   },
   "outputs": [],
   "source": [
    "sum_by_ip = df.groupby('sourceIPAddress')['bytesTransferredOut'].sum().reset_index()\n",
    "sum_by_ip.columns = ['source', 'totalDataOut']\n",
    "sum_by_ip"
   ]
  },
  {
   "cell_type": "code",
   "execution_count": null,
   "id": "860cb295-06f2-4716-9372-a09cb8d3d3dd",
   "metadata": {},
   "outputs": [],
   "source": []
  }
 ],
 "metadata": {
  "kernelspec": {
   "display_name": "conda_python3",
   "language": "python",
   "name": "conda_python3"
  },
  "language_info": {
   "codemirror_mode": {
    "name": "ipython",
    "version": 3
   },
   "file_extension": ".py",
   "mimetype": "text/x-python",
   "name": "python",
   "nbconvert_exporter": "python",
   "pygments_lexer": "ipython3",
   "version": "3.10.16"
  }
 },
 "nbformat": 4,
 "nbformat_minor": 5
}
