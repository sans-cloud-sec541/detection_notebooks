{
 "cells": [
  {
   "cell_type": "markdown",
   "id": "8de405cf-6708-43e3-948f-f45254ffc618",
   "metadata": {
    "tags": []
   },
   "source": [
    "# Ransomware Detection Lab"
   ]
  },
  {
   "cell_type": "markdown",
   "id": "39883566-d538-48eb-8178-84fefe4651e7",
   "metadata": {},
   "source": [
    "## Step 1: Import Python Packages"
   ]
  },
  {
   "cell_type": "code",
   "execution_count": null,
   "id": "611aac52-b381-4f7f-bb55-80903cc203ae",
   "metadata": {
    "tags": []
   },
   "outputs": [],
   "source": [
    "import boto3                     # Amazon Python SDK\n",
    "from datetime import datetime    # DateTime package for time conversions\n",
    "import json                      # Needed to JSONify data for pandas\n",
    "import pandas as pd              # Used to manipulate data\n",
    "import time                      # Used to wait for query to finish"
   ]
  },
  {
   "cell_type": "markdown",
   "id": "0ad196d9-84f5-4cd1-aead-9ff39e2d6198",
   "metadata": {},
   "source": [
    "## Step 2: Query for Downloaded Files"
   ]
  },
  {
   "cell_type": "code",
   "execution_count": null,
   "id": "d5606c38-4874-4788-aa91-41978ede61aa",
   "metadata": {
    "tags": []
   },
   "outputs": [],
   "source": [
    "# Get current time\n",
    "end_time = datetime.now().timestamp()\n",
    "\n",
    "# Get 24 hours prior\n",
    "start_time = end_time - 86400\n",
    "\n",
    "# Create CloudWatch Logs client and get S3 data\n",
    "client = boto3.client('logs')\n",
    "response = client.start_query(\n",
    "    queryLanguage='CWLI',\n",
    "    logGroupName='/baker221b/cloudtrail',\n",
    "    startTime=int(start_time),\n",
    "    endTime=int(end_time),\n",
    "    queryString='fields @message | filter eventSource == \"s3.amazonaws.com\"'\n",
    ")\n",
    "time.sleep(5)\n",
    "query_id = response['queryId']\n",
    "response = client.get_query_results(\n",
    "    queryId = query_id\n",
    ")\n",
    "results = response['results']\n",
    "\n",
    "# Shove data into a pandas DataFrame\n",
    "results_with_message = []\n",
    "for result in results:\n",
    "    results_with_message.append(result[0]['value'])\n",
    "data = [json.loads(item) for item in results_with_message]\n",
    "df = pd.read_json(json.dumps(data), orient='records')\n",
    "expanded_request = pd.json_normalize(df['requestParameters'])\n",
    "expanded_user_identity = pd.json_normalize(df['userIdentity'])\n",
    "df = pd.concat([df, expanded_request, expanded_user_identity], axis=1)\n",
    "df"
   ]
  },
  {
   "cell_type": "markdown",
   "id": "ed724995-70d3-442e-a42f-9b88f2c0b92f",
   "metadata": {},
   "source": [
    "## Step 3: Detect Ransomware"
   ]
  },
  {
   "cell_type": "code",
   "execution_count": null,
   "id": "65544da0-8c60-49a4-9033-fd51578fa7c2",
   "metadata": {
    "tags": []
   },
   "outputs": [],
   "source": [
    "def analyze_cloudtrail_data(df):\n",
    "    \"\"\"Function to discover ransomware\"\"\"\n",
    "    \n",
    "    # Store GetObject events into a separate DataFrame\n",
    "    get_objects = df[df['eventName'] == 'GetObject']\n",
    "    get_objects = get_objects.copy()\n",
    "    get_objects['eventTime'] = get_objects['eventTime'].apply(lambda x: datetime.strptime(x, '%Y-%m-%dT%H:%M:%SZ'))\n",
    "    \n",
    "    # Store PutObject events into a separate DataFrame\n",
    "    put_objects = df[df['eventName'] == 'PutObject']\n",
    "    put_objects = put_objects.copy()\n",
    "    put_objects['eventTime'] = put_objects['eventTime'].apply(lambda x: datetime.strptime(x, '%Y-%m-%dT%H:%M:%SZ'))\n",
    "    \n",
    "    # Store DeleteObject events into a separate DataFrame\n",
    "    delete_objects = df[df['eventName'] == 'DeleteObject']\n",
    "    delete_objects = delete_objects.copy()\n",
    "    delete_objects['eventTime'] = delete_objects['eventTime'].apply(lambda x: datetime.strptime(x, '%Y-%m-%dT%H:%M:%SZ'))\n",
    "    \n",
    "    # Create empty results list\n",
    "    results = []\n",
    "    \n",
    "    # Iterate through every GetObject record\n",
    "    for _, get_row in get_objects.iterrows():\n",
    "        \"\"\"\n",
    "        Iterate through each row in get_objects and extract relevant details\n",
    "          (key, bucketName, eventTime)\n",
    "        \"\"\"\n",
    "        file_key = get_row['key']\n",
    "        bucket_name = get_row['bucketName']\n",
    "        event_time = get_row['eventTime']\n",
    "        \n",
    "        \"\"\"\n",
    "        Filters put_objects to find operations by the same account where the\n",
    "          object name starts with but does not end with the file_key and\n",
    "          occurred after the extracted event_time\n",
    "        \"\"\"\n",
    "        put_candidates = put_objects[\n",
    "            (put_objects['bucketName'] == bucket_name) &\n",
    "            (~put_objects['key'].str.endswith(file_key)) &\n",
    "            (put_objects['key'].str.startswith(file_key)) &\n",
    "            (put_objects['eventTime'] >= event_time)\n",
    "        ]\n",
    "        \n",
    "        \"\"\"\n",
    "        Filters the delete_objects DataFrame to find operations by the same\n",
    "          account where the object key matches file_key and the operation\n",
    "          occurred after the extracted event_time\n",
    "        \"\"\"\n",
    "        delete_candidates = delete_objects[\n",
    "            (delete_objects['bucketName'] == bucket_name) &\n",
    "            (delete_objects['key'] == file_key) &\n",
    "            (delete_objects['eventTime'] >= event_time)\n",
    "        ]\n",
    "        \n",
    "        \"\"\"\n",
    "        Checks if there are both upload (put_candidates) and delete\n",
    "          (delete_candidates) operations, and if so, appends details about\n",
    "          the original file, the bucket involved, the download time, the\n",
    "          uploaded files, and a deletion confirmation to the results list\n",
    "        \"\"\"\n",
    "        if not put_candidates.empty and not delete_candidates.empty:\n",
    "            results.append({\n",
    "                'OriginalFile': file_key,\n",
    "                'BucketName': bucket_name,\n",
    "                'DownloadedAt': event_time,\n",
    "                'UploadedFiles': list(put_candidates['key']),\n",
    "                'Deleted': True\n",
    "            })\n",
    "    return pd.DataFrame(results)\n",
    "analyze_cloudtrail_data(df)"
   ]
  },
  {
   "cell_type": "code",
   "execution_count": null,
   "id": "ac32665a-ea5b-4cd8-86e1-5b3a1359852d",
   "metadata": {},
   "outputs": [],
   "source": []
  }
 ],
 "metadata": {
  "kernelspec": {
   "display_name": "conda_python3",
   "language": "python",
   "name": "conda_python3"
  },
  "language_info": {
   "codemirror_mode": {
    "name": "ipython",
    "version": 3
   },
   "file_extension": ".py",
   "mimetype": "text/x-python",
   "name": "python",
   "nbconvert_exporter": "python",
   "pygments_lexer": "ipython3",
   "version": "3.10.16"
  }
 },
 "nbformat": 4,
 "nbformat_minor": 5
}
