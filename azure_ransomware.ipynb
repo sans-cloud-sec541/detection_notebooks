{
 "cells": [
  {
   "cell_type": "markdown",
   "id": "5894c128-7bb2-4b9c-8fcd-14531660756d",
   "metadata": {},
   "source": [
    "# Azure Ransomware Detection Lab"
   ]
  },
  {
   "cell_type": "markdown",
   "id": "13a53e05-f495-48f9-9220-097eacad7db1",
   "metadata": {},
   "source": [
    "## Step 1: Import Python Packages"
   ]
  },
  {
   "cell_type": "code",
   "execution_count": null,
   "id": "234dddb7-8f95-4da6-bb1a-b28e8ce77398",
   "metadata": {
    "tags": []
   },
   "outputs": [],
   "source": [
    "!pip install azure-identity azure-mgmt-loganalytics azure-monitor-query azure-mgmt-subscription &>/dev/null\n",
    "\n",
    "from azure.identity import DeviceCodeCredential                   # Needed to authenticate with Azure\n",
    "from azure.mgmt.loganalytics import LogAnalyticsManagementClient  # Allows interaction with Log Analytics\n",
    "from azure.mgmt.subscription import SubscriptionClient            # Allows us to get the subscription ID\n",
    "from azure.monitor.query import LogsQueryClient                   # Used to issue queries to Log Analytics\n",
    "from datetime import timedelta, datetime                          # Time conversions\n",
    "import pandas as pd                                               # Used to manipulate data"
   ]
  },
  {
   "cell_type": "markdown",
   "id": "632dc805-e941-4a67-89e0-799403c1f1d4",
   "metadata": {},
   "source": [
    "## Step 2: Authenticate with Azure"
   ]
  },
  {
   "cell_type": "code",
   "execution_count": null,
   "id": "dcc0e82c-9d09-4315-97b3-eb0d849032a8",
   "metadata": {
    "tags": []
   },
   "outputs": [],
   "source": [
    "credential = DeviceCodeCredential()\n",
    "credential.authenticate()\n",
    "subscriptions_client = SubscriptionClient(credential)\n",
    "query_client = LogsQueryClient(credential)"
   ]
  },
  {
   "cell_type": "markdown",
   "id": "8cbcdb6b-9119-4dbc-9d86-dc16d13c0d89",
   "metadata": {
    "tags": []
   },
   "source": [
    "## Step 3: Get Data from Log Analytics Workspace"
   ]
  },
  {
   "cell_type": "code",
   "execution_count": null,
   "id": "bf0e8a62-b46b-48b4-9ac1-be608cf6a19b",
   "metadata": {
    "tags": []
   },
   "outputs": [],
   "source": [
    "# Get first subscription\n",
    "subscriptions = subscriptions_client.subscriptions.list()\n",
    "for subscription in subscriptions:\n",
    "    subscription_id = subscription.subscription_id\n",
    "    break\n",
    "\n",
    "# Get workspace_id\n",
    "log_analytics_client = LogAnalyticsManagementClient(credential, subscription_id)\n",
    "workspaces = log_analytics_client.workspaces.list()\n",
    "for workspace in workspaces:\n",
    "    if workspace.name == 'sherlocklaw':\n",
    "        workspace_id = workspace.customer_id\n",
    "\n",
    "# Get all StorageBlobLog data within the last day\n",
    "query = \"\"\"\n",
    "StorageBlobLogs\n",
    "\"\"\"\n",
    "response = query_client.query_workspace(workspace_id, query, timespan=timedelta(days=1))\n",
    "data = response.tables\n",
    "for table in data:\n",
    "    df = pd.DataFrame(data=table.rows, columns=table.columns)\n",
    "pd.set_option('display.max_colwidth', None)\n",
    "df"
   ]
  },
  {
   "cell_type": "markdown",
   "id": "956c9961-8c7a-4471-9ea2-c9d38f153e40",
   "metadata": {},
   "source": [
    "## Step 4: Detection Ransomware"
   ]
  },
  {
   "cell_type": "code",
   "execution_count": null,
   "id": "22769c29-a50e-4c77-82df-f65430a147e0",
   "metadata": {
    "tags": []
   },
   "outputs": [],
   "source": [
    "def analyze_storagebloblogs_data(df):\n",
    "    \"\"\"Function to discover ransomware\"\"\"\n",
    "    \n",
    "    # Store GetBlob events into a separate DataFrame\n",
    "    get_objects = df[df['OperationName'] == 'GetBlob']\n",
    "    get_objects = get_objects.copy()\n",
    "    get_objects['TimeGenerated'] = pd.to_datetime(get_objects['TimeGenerated'])\n",
    "\n",
    "    \n",
    "    # Store PutBlob events into a separate DataFrame\n",
    "    put_objects = df[df['OperationName'] == 'PutBlob']\n",
    "    put_objects = put_objects.copy()\n",
    "    put_objects['TimeGenerated'] = pd.to_datetime(put_objects['TimeGenerated'])\n",
    "    \n",
    "    # Store DeleteBlob events into a separate DataFrame\n",
    "    delete_objects = df[df['OperationName'] == 'DeleteBlob']\n",
    "    delete_objects = delete_objects.copy()\n",
    "    delete_objects['TimeGenerated'] = pd.to_datetime(delete_objects['TimeGenerated'])\n",
    "    \n",
    "    # Create empty results list\n",
    "    results = []\n",
    "    \n",
    "    # Iterate through every GetBlob record\n",
    "    for _, get_row in get_objects.iterrows():\n",
    "        \"\"\"\n",
    "        Iterate through each row in get_objects and extract relevant details\n",
    "          (ObjectKey, AccountName, TimeGenerated)\n",
    "        \"\"\"\n",
    "        file_key = get_row['ObjectKey']\n",
    "        account_name = get_row['AccountName']\n",
    "        event_time = get_row['TimeGenerated']\n",
    "        \n",
    "        \"\"\"\n",
    "        Filters put_objects to find operations by the same account where the\n",
    "          object name starts with but does not end with the file_key and\n",
    "          occurred after the extracted event_time\n",
    "        \"\"\"\n",
    "        put_candidates = put_objects[\n",
    "            (put_objects['AccountName'] == account_name) &\n",
    "            (~put_objects['ObjectKey'].str.endswith(file_key)) &\n",
    "            (put_objects['ObjectKey'].str.startswith(file_key)) &\n",
    "            (put_objects['TimeGenerated'] >= event_time)\n",
    "        ]\n",
    "        \n",
    "        \"\"\"\n",
    "        Filters the delete_objects DataFrame to find operations by the same\n",
    "          account where the object key matches file_key and the operation\n",
    "          occurred after the extracted event_time\n",
    "        \"\"\"\n",
    "        delete_candidates = delete_objects[\n",
    "            (delete_objects['AccountName'] == account_name) &\n",
    "            (delete_objects['ObjectKey'] == file_key) &\n",
    "            (delete_objects['TimeGenerated'] >= event_time)\n",
    "        ]\n",
    "        \"\"\"\n",
    "        Checks if there are both upload (put_candidates) and delete\n",
    "          (delete_candidates) operations, and if so, appends details about\n",
    "          the original file, the account involved, the download time, the\n",
    "          uploaded files, and a deletion confirmation to the results list\n",
    "        \"\"\"\n",
    "        if not put_candidates.empty and not delete_candidates.empty:\n",
    "            results.append({\n",
    "                'OriginalFile': file_key,\n",
    "                'AccountName': account_name,\n",
    "                'DownloadedAt': event_time,\n",
    "                'UploadedFiles': list(put_candidates['ObjectKey']),\n",
    "                'Deleted': True\n",
    "            })\n",
    "    return pd.DataFrame(results)\n",
    "\n",
    "analyze_storagebloblogs_data(df)"
   ]
  },
  {
   "cell_type": "code",
   "execution_count": null,
   "id": "f20cf7bb-a66a-4cc3-a7a8-93efb74c4728",
   "metadata": {},
   "outputs": [],
   "source": []
  }
 ],
 "metadata": {
  "kernelspec": {
   "display_name": "conda_python3",
   "language": "python",
   "name": "conda_python3"
  },
  "language_info": {
   "codemirror_mode": {
    "name": "ipython",
    "version": 3
   },
   "file_extension": ".py",
   "mimetype": "text/x-python",
   "name": "python",
   "nbconvert_exporter": "python",
   "pygments_lexer": "ipython3",
   "version": "3.10.16"
  }
 },
 "nbformat": 4,
 "nbformat_minor": 5
}
